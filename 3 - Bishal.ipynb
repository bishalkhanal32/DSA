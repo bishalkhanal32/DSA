{
 "cells": [
  {
   "cell_type": "code",
   "execution_count": 1,
   "id": "c114baeb",
   "metadata": {},
   "outputs": [],
   "source": [
    "import numpy as np\n",
    "\n",
    "data = np.array([100, 113, 110, 85, 105, 102, 86, 63, 81, 101, 94, 106, 101, 79, 94, 90, 97])\n",
    "change_per_day = np.delete(data, 0) - np.delete(data, len(data)-1)\n"
   ]
  },
  {
   "cell_type": "code",
   "execution_count": 2,
   "id": "25d1caed",
   "metadata": {},
   "outputs": [
    {
     "data": {
      "text/plain": [
       "array([ 13,  -3, -25,  20,  -3, -16, -23,  18,  20,  -7,  12,  -5, -22,\n",
       "        15,  -4,   7])"
      ]
     },
     "execution_count": 2,
     "metadata": {},
     "output_type": "execute_result"
    }
   ],
   "source": [
    "change_per_day"
   ]
  },
  {
   "cell_type": "code",
   "execution_count": 3,
   "id": "5e607f36",
   "metadata": {},
   "outputs": [],
   "source": [
    "def cross_value(array, start_index, end_index, m):\n",
    "    #moving towards right\n",
    "    cum_sum = 0 #cumulative sum = 0\n",
    "    right_max = -np.inf\n",
    "    for index in np.arange(m, end_index + 1):\n",
    "        cum_sum += array[index]\n",
    "        if cum_sum > right_max:\n",
    "            right_max = cum_sum #max cumulative value\n",
    "            right_idx = index #index at which cumulative value becomes maximum\n",
    "        \n",
    "    #moving towards left\n",
    "    cum_sum = 0\n",
    "    left_max = -np.inf\n",
    "    for index in np.arange(m-1, start_index - 1, -1):\n",
    "        cum_sum += array[index]\n",
    "        if cum_sum > left_max:\n",
    "            left_max = cum_sum #max cumulative value\n",
    "            left_idx = index #index at which cumulative value becomes maximum\n",
    "    \n",
    "    cross = right_max + left_max\n",
    "    si = left_idx\n",
    "    ei = right_idx\n",
    "    \n",
    "    return (cross, si, ei)\n",
    "\n",
    "#start_index = 0 and end_index = len(array) - 1\n",
    "def maximum_subarray(array, start_index, end_index):\n",
    "    if (end_index - start_index) > 1:\n",
    "        m = int(np.ceil((start_index + end_index)/2))\n",
    "        maximum_L, si, ei = maximum_subarray(array, start_index = start_index, end_index = m) #array[m] is not included\n",
    "        maximum_R, si, ei = maximum_subarray(array, start_index = m, end_index = end_index) #array[m] is include\n",
    "        \n",
    "    if (end_index - start_index) <= 1:\n",
    "        maximum = array[start_index]\n",
    "        si = start_index\n",
    "        ei = end_index\n",
    "        return(maximum, si, ei)\n",
    "    \n",
    "    else:\n",
    "        left = maximum_L\n",
    "        right = maximum_R\n",
    "\n",
    "        cross, si, ei = cross_value(array, start_index, end_index, m)\n",
    "\n",
    "        maximum_value = max([left, right, cross])\n",
    "        return (maximum_value, si, ei)\n",
    "    \n",
    "    "
   ]
  },
  {
   "cell_type": "code",
   "execution_count": 4,
   "id": "0e34206e",
   "metadata": {},
   "outputs": [
    {
     "name": "stdout",
     "output_type": "stream",
     "text": [
      "So the maximum benefit we can get is 43 buying at day 8 and selling at day 11\n"
     ]
    }
   ],
   "source": [
    "maximum_value, si, ei = maximum_subarray(change_per_day, 0, len(change_per_day) - 1)\n",
    "print(f'So the maximum benefit we can get is {maximum_value} buying at day {si + 1} and selling at day {ei + 1}')\n",
    "#si + 1 and ei + 1 is done to get the original index of the data"
   ]
  },
  {
   "cell_type": "markdown",
   "id": "c42951c1",
   "metadata": {},
   "source": [
    "### Now lets compare the practical and theoretical complexity"
   ]
  },
  {
   "cell_type": "code",
   "execution_count": 5,
   "id": "de409039",
   "metadata": {},
   "outputs": [],
   "source": [
    "import time\n",
    "\n",
    "loopcount = 1000\n",
    "start = np.zeros(loopcount)\n",
    "end = np.zeros(loopcount)\n",
    "for i in np.arange(loopcount):\n",
    "    start[i] = time.time()\n",
    "    maximum_subarray(change_per_day, 0, len(change_per_day) - 1)\n",
    "    end[i] = time.time()\n",
    "\n"
   ]
  },
  {
   "cell_type": "code",
   "execution_count": 6,
   "id": "934a55ab",
   "metadata": {},
   "outputs": [
    {
     "name": "stdout",
     "output_type": "stream",
     "text": [
      "Averaging 1000 samples.\n",
      "Total Time taken to execute data of size n = 16 is 0.00036534857749938966 seconds.\n"
     ]
    }
   ],
   "source": [
    "print(f'Averaging {loopcount} samples.')\n",
    "print(f'Total Time taken to execute data of size n = {len(change_per_day)} is {np.mean(end-start)} seconds.')"
   ]
  },
  {
   "cell_type": "code",
   "execution_count": 7,
   "id": "cdfa1d4b",
   "metadata": {},
   "outputs": [],
   "source": [
    "import time\n",
    "import math\n",
    "\n",
    "def practical_time(loopcount, array):\n",
    "    start = np.zeros(loopcount)\n",
    "    end = np.zeros(loopcount)\n",
    "    for i in np.arange(loopcount):\n",
    "        start[i] = time.time()\n",
    "        maximum_subarray(array, 0, len(array) - 1)\n",
    "        end[i] = time.time()\n",
    "    timetaken = np.mean(end-start)\n",
    "    return timetaken\n",
    "\n",
    "def theoritical_time(array, c):\n",
    "    n = len(array)\n",
    "    t = n * math.log2(n) * c\n",
    "    return t\n",
    "\n"
   ]
  },
  {
   "cell_type": "code",
   "execution_count": 44,
   "id": "95a230d5",
   "metadata": {},
   "outputs": [],
   "source": [
    "import matplotlib.pyplot as plt\n",
    "\n",
    "arraysize = 4000 #max size of n\n",
    "loopcount = 10 #averaging multiple time periods on same operation for better result\n",
    "c = 1/550000\n",
    "array = []\n",
    "nsize = []\n",
    "time_p = []\n",
    "time_t = []\n",
    "for i in np.arange(arraysize):\n",
    "    array.append(i)\n",
    "    if i%50==0:\n",
    "        time_p.append(practical_time(loopcount, array))\n",
    "        time_t.append(theoritical_time(array, c))\n",
    "        nsize.append(len(array))\n"
   ]
  },
  {
   "cell_type": "code",
   "execution_count": 45,
   "id": "a93f9794",
   "metadata": {},
   "outputs": [
    {
     "data": {
      "image/png": "[encoded data removed]",
      "text/plain": [
       "<Figure size 432x288 with 1 Axes>"
      ]
     },
     "metadata": {
      "needs_background": "light"
     },
     "output_type": "display_data"
    }
   ],
   "source": [
    "plt.figure()\n",
    "plt.plot(nsize, time_p, label='Practical Time')\n",
    "plt.plot(nsize, time_t, label='Theoritical Time O(nlog2(n))')\n",
    "plt.xlabel('data size(n)')\n",
    "plt.ylabel('computational time (in seconds)')\n",
    "plt.legend()\n",
    "\n",
    "plt.show()\n",
    "    "
   ]
  },
  {
   "cell_type": "markdown",
   "id": "ba204c63",
   "metadata": {},
   "source": [
    "The plot of the practical computational time and the theoritical compututational time seems to align, not perfectly though, which may be because of the value of 'c' that I have chosen which depends upon the computer computational power. I have chosen c to be 1/550000 to align with the theoritical curve with the practical one.\n",
    "\n",
    "The zigzag in the Practical Time plot is because of the effect of other processes that the cpu is processing at that moment. To solve that, looping over the algorithm over the same n and averaging all of them (I personally think taking the minimum will be a better idea). And another important analysis from the curve plot is that both seems to be growing at the same way.\n",
    "\n",
    "Another thing is that, the plot differs every time I execute from the start, that is because of the other processes that is running on the system during that particular time affecting the time performance on our algorithm."
   ]
  }
 ],
 "metadata": {
  "kernelspec": {
   "display_name": "Python 3 (ipykernel)",
   "language": "python",
   "name": "python3"
  },
  "language_info": {
   "codemirror_mode": {
    "name": "ipython",
    "version": 3
   },
   "file_extension": ".py",
   "mimetype": "text/x-python",
   "name": "python",
   "nbconvert_exporter": "python",
   "pygments_lexer": "ipython3",
   "version": "3.8.3"
  }
 },
 "nbformat": 4,
 "nbformat_minor": 5
}
