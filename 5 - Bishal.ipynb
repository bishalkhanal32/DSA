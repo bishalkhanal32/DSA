{
 "cells": [
  {
   "cell_type": "markdown",
   "id": "1be0fe91",
   "metadata": {},
   "source": [
    "Counting sort, Bucket sort and Radix Sort"
   ]
  },
  {
   "cell_type": "markdown",
   "id": "f2d4d316",
   "metadata": {},
   "source": [
    "### Counting Sort"
   ]
  },
  {
   "cell_type": "code",
   "execution_count": 1,
   "id": "90a8173f",
   "metadata": {},
   "outputs": [],
   "source": [
    "def counting_sort(A):\n",
    "    max_A = max(A)\n",
    "    C = []\n",
    "    for i in range(max_A+1):\n",
    "        C.append(0)\n",
    "    \n",
    "    for i in range(len(A)):\n",
    "        C[A[i]] = C[A[i]] + 1\n",
    "    \n",
    "    for i in range(1, len(C)):\n",
    "        C[i] = C[i] + C[i-1]\n",
    "    \n",
    "    B = []\n",
    "    for i in range(len(A)):\n",
    "        B.append(0)\n",
    "    \n",
    "    for i in range(len(A)-1, -1, -1):\n",
    "        B[C[A[i]]-1] = A[i]\n",
    "        C[A[i]] = C[A[i]] - 1\n",
    "    \n",
    "    return B\n",
    "    "
   ]
  },
  {
   "cell_type": "code",
   "execution_count": 2,
   "id": "1aa42aa3",
   "metadata": {},
   "outputs": [
    {
     "name": "stdout",
     "output_type": "stream",
     "text": [
      "[0, 0, 1, 1, 2, 2, 3, 3, 4, 6, 6]\n"
     ]
    }
   ],
   "source": [
    "A = [6,0,2,0,1,3,4,6,1,3,2]\n",
    "B = counting_sort(A)\n",
    "print(B)"
   ]
  },
  {
   "cell_type": "markdown",
   "id": "9f169584",
   "metadata": {},
   "source": [
    "### Radix Sort"
   ]
  },
  {
   "cell_type": "code",
   "execution_count": 3,
   "id": "ce2aea95",
   "metadata": {},
   "outputs": [],
   "source": [
    "def counting_sort_radix(A, digit):\n",
    "    max_digit = max(digit)\n",
    "    C = []\n",
    "    for i in range(max_digit+1):\n",
    "        C.append(0)\n",
    "    \n",
    "    for i in range(len(digit)):\n",
    "        C[digit[i]] = C[digit[i]] + 1\n",
    "    \n",
    "    for i in range(1, len(C)):\n",
    "        C[i] = C[i] + C[i-1]\n",
    "    \n",
    "    B = []\n",
    "    for i in range(len(A)):\n",
    "        B.append(0)\n",
    "    \n",
    "    for i in range(len(digit)-1, -1, -1):\n",
    "        B[C[digit[i]]-1] = A[i]\n",
    "        C[digit[i]] = C[digit[i]] - 1\n",
    "    \n",
    "    return B\n",
    "\n",
    "def radix_sort(A, d):\n",
    "    a = A\n",
    "    for i in range(1, d+1):\n",
    "        if i>1:\n",
    "            a = [int(e/(10**(i-1))) for e in A]\n",
    "        digit = [e%10 for e in a]\n",
    "#         print(a,digit,i)\n",
    "        A = counting_sort_radix(A, digit)\n",
    "    return A\n",
    "        \n",
    "    "
   ]
  },
  {
   "cell_type": "code",
   "execution_count": 4,
   "id": "dc4ef56f",
   "metadata": {},
   "outputs": [
    {
     "data": {
      "text/plain": [
       "[329, 355, 436, 457, 657, 720, 839]"
      ]
     },
     "execution_count": 4,
     "metadata": {},
     "output_type": "execute_result"
    }
   ],
   "source": [
    "A = [329, 457, 657, 839, 436, 720, 355]\n",
    "# C = [60,0,24,0,12,38,44,61,13,39,20]\n",
    "D = radix_sort(A, 3)\n",
    "D"
   ]
  },
  {
   "cell_type": "markdown",
   "id": "b27cb895",
   "metadata": {},
   "source": [
    "### Bucket Sort"
   ]
  },
  {
   "cell_type": "code",
   "execution_count": 5,
   "id": "6304e936",
   "metadata": {},
   "outputs": [],
   "source": [
    "def nest_simple(B):\n",
    "    if (type(B) is list):\n",
    "        for el in B:\n",
    "            if ((type(el) is list) and len(el)!=0) or type(el) is not list:\n",
    "                b = nest_simple(el)\n",
    "                if type(b) is not list:\n",
    "                    C.append(b)\n",
    "    return B\n",
    "\n",
    "def insertion_sort(array):\n",
    "    for j in range(1, len(array)):\n",
    "        key = array[j]\n",
    "        i = j-1\n",
    "        while i>=0 and array[i]>key:\n",
    "            array[i+1] = array[i]\n",
    "            i = i - 1\n",
    "        array[i+1] = key\n",
    "    return array\n",
    "\n",
    "def bucket_sort(A):\n",
    "    B = [None]*len(A)\n",
    "    n = len(A)\n",
    "    for i in range(n):\n",
    "        B[i] = []\n",
    "    for i in range(n):\n",
    "        B[int(n*A[i])].append(A[i])\n",
    "    for i in range(n):\n",
    "        B[i] = insertion_sort(B[i])\n",
    "        \n",
    "    return B\n",
    "    "
   ]
  },
  {
   "cell_type": "code",
   "execution_count": 6,
   "id": "b8b4379a",
   "metadata": {},
   "outputs": [
    {
     "name": "stdout",
     "output_type": "stream",
     "text": [
      "Without concatenation output from bucket sort:\n",
      " [[], [0.12, 0.17], [0.21, 0.23, 0.26], [0.39], [], [], [0.68], [0.72, 0.78], [], [0.94]]\n",
      "After concatenation output from bucket sort:\n",
      " [0.12, 0.17, 0.21, 0.23, 0.26, 0.39, 0.68, 0.72, 0.78, 0.94]\n"
     ]
    }
   ],
   "source": [
    "A = [0.78,0.17,0.39,0.26,0.72,0.94,0.21,0.12,0.23,0.68]\n",
    "B = bucket_sort(A)\n",
    "print(\"Without concatenation output from bucket sort:\\n\", B)\n",
    "global C\n",
    "C = []\n",
    "nest_simple(B)\n",
    "print(\"After concatenation output from bucket sort:\\n\", C)\n"
   ]
  },
  {
   "cell_type": "markdown",
   "id": "b385074c",
   "metadata": {},
   "source": [
    "### Comparing Radix sort and Bucket sort with Quicksort"
   ]
  },
  {
   "cell_type": "code",
   "execution_count": 7,
   "id": "5cc88089",
   "metadata": {},
   "outputs": [],
   "source": [
    "import time\n",
    "import math\n",
    "import numpy as np\n",
    "import matplotlib.pyplot as plt\n",
    "\n",
    "def insertion_time(loopcount, array):\n",
    "    start = np.zeros(loopcount)\n",
    "    end = np.zeros(loopcount)\n",
    "    for i in np.arange(loopcount):\n",
    "        start[i] = time.time()\n",
    "        insertion_sort(array)\n",
    "        end[i] = time.time()\n",
    "    timetaken = np.mean(end-start)\n",
    "    return timetaken\n",
    "\n",
    "def radix_time(loopcount, array, d):\n",
    "    start = np.zeros(loopcount)\n",
    "    end = np.zeros(loopcount)\n",
    "    for i in np.arange(loopcount):\n",
    "        start[i] = time.time()\n",
    "        radix_sort(array, d)\n",
    "        end[i] = time.time()\n",
    "    timetaken = np.mean(end-start)\n",
    "    return timetaken\n",
    "\n",
    "def bucket_time(loopcount, array):\n",
    "    start = np.zeros(loopcount)\n",
    "    end = np.zeros(loopcount)\n",
    "    for i in np.arange(loopcount):\n",
    "        start[i] = time.time()\n",
    "        bucket_sort(array)\n",
    "        end[i] = time.time()\n",
    "    timetaken = np.mean(end-start)\n",
    "    return timetaken\n",
    "\n",
    "def counting_time(loopcount, array):\n",
    "    start = np.zeros(loopcount)\n",
    "    end = np.zeros(loopcount)\n",
    "    for i in np.arange(loopcount):\n",
    "        start[i] = time.time()\n",
    "        counting_sort(array)\n",
    "        end[i] = time.time()\n",
    "    timetaken = np.mean(end-start)\n",
    "    return timetaken"
   ]
  },
  {
   "cell_type": "code",
   "execution_count": 8,
   "id": "7e88b94e",
   "metadata": {},
   "outputs": [],
   "source": [
    "import matplotlib.pyplot as plt\n",
    "\n",
    "arraysize = 4000 #max size of n\n",
    "loopcount = 10 #averaging multiple time periods on same operation for better result\n",
    "array = []\n",
    "nsize = []\n",
    "time_bucket = []\n",
    "time_insertion = []\n",
    "time_radix = []\n",
    "for i in np.arange(arraysize):\n",
    "    array.append(i)\n",
    "    if i%50==0:\n",
    "        time_insertion.append(insertion_time(loopcount, array))\n",
    "        time_radix.append(radix_time(loopcount, array, d=4))\n",
    "        nsize.append(len(array))\n"
   ]
  },
  {
   "cell_type": "code",
   "execution_count": 9,
   "id": "98522f19",
   "metadata": {},
   "outputs": [
    {
     "data": {
      "image/png": "[encoded data removed]",
      "text/plain": [
       "<Figure size 432x288 with 1 Axes>"
      ]
     },
     "metadata": {
      "needs_background": "light"
     },
     "output_type": "display_data"
    }
   ],
   "source": [
    "plt.figure()\n",
    "plt.plot(nsize, time_insertion, label='Insertion Time')\n",
    "plt.plot(nsize, time_radix, label='Radix Time')\n",
    "plt.xlabel('data size(n)')\n",
    "plt.ylabel('computational time (in seconds)')\n",
    "plt.title(\"Insertion sort and Radix Sort comparison\")\n",
    "plt.legend()\n",
    "\n",
    "plt.show()\n",
    "    "
   ]
  },
  {
   "cell_type": "code",
   "execution_count": 10,
   "id": "6c5aec51",
   "metadata": {},
   "outputs": [],
   "source": [
    "import matplotlib.pyplot as plt\n",
    "\n",
    "arraysize = 4000 #max size of n\n",
    "loopcount = 10 #averaging multiple time periods on same operation for better result\n",
    "array = []\n",
    "nsize = []\n",
    "time_bucket = []\n",
    "time_insertion = []\n",
    "time_radix = []\n",
    "for i in np.arange(arraysize):\n",
    "    array.append(i/4001)\n",
    "    if i%50==0:\n",
    "        time_insertion.append(insertion_time(loopcount, array))\n",
    "        time_bucket.append(bucket_time(loopcount, array))\n",
    "        nsize.append(len(array))"
   ]
  },
  {
   "cell_type": "code",
   "execution_count": 11,
   "id": "92ecfb91",
   "metadata": {},
   "outputs": [
    {
     "data": {
      "image/png": "[encoded data removed]",
      "text/plain": [
       "<Figure size 432x288 with 1 Axes>"
      ]
     },
     "metadata": {
      "needs_background": "light"
     },
     "output_type": "display_data"
    }
   ],
   "source": [
    "plt.figure()\n",
    "plt.plot(nsize, time_insertion, label='Insertion Time')\n",
    "plt.plot(nsize, time_bucket, label='Bucket Time')\n",
    "plt.xlabel('data size(n)')\n",
    "plt.ylabel('computational time (in seconds)')\n",
    "plt.title(\"Insertion sort and Bucket Sort comparison\")\n",
    "plt.legend()\n",
    "\n",
    "plt.show()\n",
    "    "
   ]
  },
  {
   "cell_type": "markdown",
   "id": "a68f5a23",
   "metadata": {},
   "source": [
    "### Counting Sort vs Insertion Sort"
   ]
  },
  {
   "cell_type": "code",
   "execution_count": 12,
   "id": "1749decb",
   "metadata": {},
   "outputs": [],
   "source": [
    "import matplotlib.pyplot as plt\n",
    "\n",
    "arraysize = 4000 #max size of n\n",
    "loopcount = 10 #averaging multiple time periods on same operation for better result\n",
    "array = []\n",
    "nsize = []\n",
    "time_counting = []\n",
    "time_insertion = []\n",
    "for i in np.arange(arraysize):\n",
    "    array.append(i)\n",
    "    if i%50==0:\n",
    "        time_insertion.append(insertion_time(loopcount, array))\n",
    "        time_counting.append(counting_time(loopcount, array))\n",
    "        nsize.append(len(array))"
   ]
  },
  {
   "cell_type": "code",
   "execution_count": 13,
   "id": "73648e24",
   "metadata": {},
   "outputs": [
    {
     "data": {
      "image/png": "[encoded data removed]",
      "text/plain": [
       "<Figure size 432x288 with 1 Axes>"
      ]
     },
     "metadata": {
      "needs_background": "light"
     },
     "output_type": "display_data"
    }
   ],
   "source": [
    "plt.figure()\n",
    "plt.plot(nsize, time_insertion, label='Insertion Time')\n",
    "plt.plot(nsize, time_counting, label='Counting Time')\n",
    "plt.xlabel('data size(n)')\n",
    "plt.ylabel('computational time (in seconds)')\n",
    "plt.title(\"Insertion sort and Counting Sort comparison\")\n",
    "plt.legend()\n",
    "\n",
    "plt.show()\n",
    "    "
   ]
  }
 ],
 "metadata": {
  "kernelspec": {
   "display_name": "Python 3 (ipykernel)",
   "language": "python",
   "name": "python3"
  },
  "language_info": {
   "codemirror_mode": {
    "name": "ipython",
    "version": 3
   },
   "file_extension": ".py",
   "mimetype": "text/x-python",
   "name": "python",
   "nbconvert_exporter": "python",
   "pygments_lexer": "ipython3",
   "version": "3.8.3"
  }
 },
 "nbformat": 4,
 "nbformat_minor": 5
}
