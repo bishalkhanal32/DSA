{
 "cells": [
  {
   "cell_type": "markdown",
   "id": "fc060b83",
   "metadata": {},
   "source": [
    "A. Insertion Sort Algorithm implementation in python"
   ]
  },
  {
   "cell_type": "code",
   "execution_count": 4,
   "id": "7d43031f",
   "metadata": {},
   "outputs": [
    {
     "name": "stdout",
     "output_type": "stream",
     "text": [
      "[2, 3, 4, 5, 7, 8, 9, 10]\n"
     ]
    }
   ],
   "source": [
    "array = [5,8,3,9,2,10,4,7]\n",
    "\n",
    "for j in range(1, len(array)):\n",
    "    key = array[j]\n",
    "    i = j-1\n",
    "    while i>=0 and array[i]>key:\n",
    "        array[i+1] = array[i]\n",
    "        i = i - 1\n",
    "    array[i+1] = key\n",
    "\n",
    "print(array)"
   ]
  },
  {
   "cell_type": "markdown",
   "id": "acfa1eed",
   "metadata": {},
   "source": [
    "B. Merge-sort algorithm implementation in python"
   ]
  },
  {
   "cell_type": "markdown",
   "id": "2cc4c892",
   "metadata": {},
   "source": [
    "a. Using global varible"
   ]
  },
  {
   "cell_type": "code",
   "execution_count": 38,
   "id": "5608f279",
   "metadata": {},
   "outputs": [
    {
     "name": "stdout",
     "output_type": "stream",
     "text": [
      "[2, 3, 4, 5, 7, 8, 9, 10]\n"
     ]
    }
   ],
   "source": [
    "import math\n",
    "\n",
    "global A\n",
    "A = [5,8,3,9,2,10,4,7]\n",
    "\n",
    "#merging function\n",
    "def merge(p, q, r):\n",
    "    n1 = q-p+1\n",
    "    n2 = r-q\n",
    "    L = []\n",
    "    R = []\n",
    "    for i in range(n1):\n",
    "        L.append(A[p+i])\n",
    "        \n",
    "    for j in range(n2):\n",
    "        R.append(A[q+j+1])\n",
    "        \n",
    "    L.append(math.inf)\n",
    "    R.append(math.inf)\n",
    "    i = 0\n",
    "    j = 0\n",
    "    for k in range(p,r+1,1):\n",
    "        if L[i] <= R[j]:\n",
    "            A[k] = L[i]\n",
    "            i = i + 1\n",
    "        else:\n",
    "            A[k] = R[j]\n",
    "            j = j + 1\n",
    "\n",
    "#splitting function\n",
    "def merge_sort(p, r):\n",
    "    if p<r:\n",
    "        q = math.floor((r+p)/2)\n",
    "        merge_sort(p, q)\n",
    "        merge_sort(q+1, r)\n",
    "        merge(p, q, r)\n",
    "    \n",
    "p = 0\n",
    "r = len(A)-1\n",
    "merge_sort(p, r)\n",
    "print(A)"
   ]
  },
  {
   "cell_type": "markdown",
   "id": "3793987d",
   "metadata": {},
   "source": [
    "b. Not using Global Variable"
   ]
  },
  {
   "cell_type": "code",
   "execution_count": 51,
   "id": "90cce7b1",
   "metadata": {},
   "outputs": [
    {
     "data": {
      "text/plain": [
       "[0, 2, 4, 5, 7, 8, 10, 30, 90]"
      ]
     },
     "execution_count": 51,
     "metadata": {},
     "output_type": "execute_result"
    }
   ],
   "source": [
    "def mergesort(A):\n",
    "#  --splitting--\n",
    "    q = len(A)//2\n",
    "    leftA = A[:q]\n",
    "    rightA = A[q:]\n",
    "    if len(leftA) > 1:\n",
    "        leftA = mergesort(leftA)\n",
    "    if len(rightA) > 1:\n",
    "        rightA = mergesort(rightA)\n",
    "    \n",
    "#  --merging--\n",
    "    i=0\n",
    "    j=0\n",
    "    leftA.append(math.inf)\n",
    "    rightA.append(math.inf)\n",
    "    for k in range(len(A)):\n",
    "        if leftA[i] <= rightA[j]:\n",
    "            A[k] = leftA[i]\n",
    "            i = i + 1\n",
    "        else:\n",
    "            A[k] = rightA[j]\n",
    "            j = j + 1\n",
    "    \n",
    "    return A\n",
    "\n",
    "numlist = [5,8,30,90,2,10,4,7,0]\n",
    "mergesort(numlist)"
   ]
  }
 ],
 "metadata": {
  "kernelspec": {
   "display_name": "Python 3",
   "language": "python",
   "name": "python3"
  },
  "language_info": {
   "codemirror_mode": {
    "name": "ipython",
    "version": 3
   },
   "file_extension": ".py",
   "mimetype": "text/x-python",
   "name": "python",
   "nbconvert_exporter": "python",
   "pygments_lexer": "ipython3",
   "version": "3.8.8"
  }
 },
 "nbformat": 4,
 "nbformat_minor": 5
}
