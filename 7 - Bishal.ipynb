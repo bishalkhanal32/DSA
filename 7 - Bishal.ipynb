{
 "cells": [
  {
   "cell_type": "code",
   "execution_count": 1,
   "id": "6aa76044",
   "metadata": {},
   "outputs": [],
   "source": [
    "class Node:\n",
    "    def __init__(self, val):\n",
    "        self.l = None\n",
    "        self.r = None\n",
    "        self.v = val\n",
    "        self.p = None #parent node\n",
    "\n",
    "class Tree:\n",
    "    def __init__(self):\n",
    "        self.root = None\n",
    "\n",
    "    def getRoot(self):\n",
    "        return self.root\n",
    "\n",
    "    def add(self, val):\n",
    "        if self.root is None:\n",
    "            self.root = Node(val)\n",
    "        else:\n",
    "            self._add(val, self.root)\n",
    "\n",
    "    def _add(self, val, node):\n",
    "        if val < node.v:\n",
    "            if node.l is not None:\n",
    "                self._add(val, node.l)\n",
    "            else:\n",
    "                node.l = Node(val)\n",
    "                node.l.p = node\n",
    "        else:\n",
    "            if node.r is not None:\n",
    "                self._add(val, node.r)\n",
    "            else:\n",
    "                node.r = Node(val)\n",
    "                node.r.p = node\n",
    "\n",
    "    def find(self, val):\n",
    "        if self.root is not None:\n",
    "            return self._find(val, self.root)\n",
    "        else:\n",
    "            return None\n",
    "\n",
    "    def _find(self, val, node):\n",
    "        if val == node.v:\n",
    "            return node\n",
    "        elif (val < node.v and node.l is not None):\n",
    "            return self._find(val, node.l)\n",
    "        elif (val > node.v and node.r is not None):\n",
    "            return self._find(val, node.r)\n",
    "\n",
    "    def deleteTree(self):\n",
    "        self.root = None\n",
    "\n",
    "    def printTree(self):\n",
    "        if self.root is not None:\n",
    "            self._printTree(self.root)\n",
    "\n",
    "    def _printTree(self, node):\n",
    "        if node is not None:\n",
    "            self._printTree(node.l)\n",
    "            print(str(node.v) + ' ')\n",
    "            self._printTree(node.r)\n",
    "    \n",
    "    # to print the successor of val\n",
    "    def printSuccessor(self, val):\n",
    "        node = self.find(val)\n",
    "        if node.r is not None:\n",
    "            return self.treeMinimum(node.r)\n",
    "        y = node.p\n",
    "        while y is not None and node == y.r:\n",
    "            node = y\n",
    "            y = y.p\n",
    "        return y\n",
    "        \n",
    "    def treeMinimum(self, x):\n",
    "        while x.l is not None:\n",
    "            x = x.l\n",
    "        return x"
   ]
  },
  {
   "cell_type": "code",
   "execution_count": 2,
   "id": "bfa87410",
   "metadata": {},
   "outputs": [],
   "source": [
    "tree = Tree()\n",
    "tree.add(3)\n",
    "tree.add(4)\n",
    "tree.add(0)\n",
    "tree.add(8)\n",
    "tree.add(2)\n"
   ]
  },
  {
   "cell_type": "code",
   "execution_count": 3,
   "id": "99917fb8",
   "metadata": {},
   "outputs": [
    {
     "name": "stdout",
     "output_type": "stream",
     "text": [
      "0 \n",
      "2 \n",
      "3 \n",
      "4 \n",
      "8 \n"
     ]
    }
   ],
   "source": [
    "tree.printTree()"
   ]
  },
  {
   "cell_type": "code",
   "execution_count": 4,
   "id": "55a7e0bb",
   "metadata": {},
   "outputs": [
    {
     "name": "stdout",
     "output_type": "stream",
     "text": [
      "3\n"
     ]
    }
   ],
   "source": [
    "print(tree.find(3).v)"
   ]
  },
  {
   "cell_type": "code",
   "execution_count": 5,
   "id": "748db5fe",
   "metadata": {},
   "outputs": [
    {
     "name": "stdout",
     "output_type": "stream",
     "text": [
      "None\n"
     ]
    }
   ],
   "source": [
    "print(tree.find(10))"
   ]
  },
  {
   "cell_type": "code",
   "execution_count": 6,
   "id": "141b5e52",
   "metadata": {},
   "outputs": [
    {
     "name": "stdout",
     "output_type": "stream",
     "text": [
      "4\n",
      "3\n",
      "2\n",
      "8\n",
      "None\n"
     ]
    }
   ],
   "source": [
    "print(tree.printSuccessor(3).v)\n",
    "print(tree.printSuccessor(2).v)\n",
    "print(tree.printSuccessor(0).v)\n",
    "print(tree.printSuccessor(4).v)\n",
    "print(tree.printSuccessor(8))"
   ]
  },
  {
   "cell_type": "code",
   "execution_count": 7,
   "id": "c89005f0",
   "metadata": {},
   "outputs": [],
   "source": [
    "tree.deleteTree()"
   ]
  },
  {
   "cell_type": "code",
   "execution_count": 9,
   "id": "05919a16",
   "metadata": {},
   "outputs": [],
   "source": [
    "tree.printTree()"
   ]
  }
 ],
 "metadata": {
  "kernelspec": {
   "display_name": "Python 3 (ipykernel)",
   "language": "python",
   "name": "python3"
  },
  "language_info": {
   "codemirror_mode": {
    "name": "ipython",
    "version": 3
   },
   "file_extension": ".py",
   "mimetype": "text/x-python",
   "name": "python",
   "nbconvert_exporter": "python",
   "pygments_lexer": "ipython3",
   "version": "3.8.3"
  }
 },
 "nbformat": 4,
 "nbformat_minor": 5
}
