{
 "cells": [
  {
   "cell_type": "markdown",
   "id": "dba6363c",
   "metadata": {},
   "source": [
    "### Implementing Stack data structure"
   ]
  },
  {
   "cell_type": "code",
   "execution_count": 1,
   "id": "367de32a",
   "metadata": {},
   "outputs": [],
   "source": [
    "class Stack:\n",
    "    def __init__(self):\n",
    "        self.stack_arr = []\n",
    "    \n",
    "    def push(self, element):\n",
    "        self.stack_arr.append(element)\n",
    "        \n",
    "    def pop(self):\n",
    "        if not(self.isempty()):\n",
    "            element = self.stack_arr[-1]\n",
    "            self.stack_arr = self.stack_arr[:-1]\n",
    "            return element\n",
    "        print(\"You cannot pop out more. The Stack is empty already\")\n",
    "        raise \n",
    "    \n",
    "    def isempty(self):\n",
    "        if len(self.stack_arr) == 0:\n",
    "            return True\n",
    "        else:\n",
    "            return False\n",
    "        \n",
    "    def __len__(self):\n",
    "        return len(self.stack_arr)"
   ]
  },
  {
   "cell_type": "code",
   "execution_count": 2,
   "id": "5ec3c1c9",
   "metadata": {},
   "outputs": [],
   "source": [
    "def check(stack, inp):\n",
    "    list_op = ['[', '(', '{']\n",
    "    list_cl = [']', ')', '}']\n",
    "    for e in inp:\n",
    "        if e in list_op:\n",
    "            returned = stack.push(e)\n",
    "        if e in list_cl:\n",
    "            returned = stack.pop()\n",
    "\n",
    "    if stack.isempty():\n",
    "        return \"Okay\"\n",
    "    else:\n",
    "        return \"Not Okay!!\"\n",
    "        "
   ]
  },
  {
   "cell_type": "code",
   "execution_count": 3,
   "id": "f7e1dc29",
   "metadata": {},
   "outputs": [
    {
     "name": "stdout",
     "output_type": "stream",
     "text": [
      "Checking status of '{([])}' using stack: Okay\n",
      "Checking status of '(()' using stack: Not Okay!!\n"
     ]
    }
   ],
   "source": [
    "r_inp = \"{([])}\"\n",
    "w_inp = \"(()\"\n",
    "\n",
    "stack = Stack()\n",
    "print(f\"Checking status of '{r_inp}' using stack:\", check(stack, r_inp))\n",
    "stack = Stack()\n",
    "print(f\"Checking status of '{w_inp}' using stack: {check(stack, w_inp)}\")"
   ]
  },
  {
   "cell_type": "markdown",
   "id": "b9b46b77",
   "metadata": {},
   "source": [
    "### Implementing Queue Data Structure"
   ]
  },
  {
   "cell_type": "code",
   "execution_count": 4,
   "id": "b454ef46",
   "metadata": {},
   "outputs": [],
   "source": [
    "class Queue:\n",
    "    def __init__(self, size = 10):\n",
    "        self.queue_arr = [None]*size\n",
    "        self.tail = 0 #it points location to push\n",
    "        self.head = 0 #it points the element to pull\n",
    "        self.size = size\n",
    "        \n",
    "    def enqueue(self, element):\n",
    "        self.queue_arr[self.tail] = element\n",
    "        if self.tail == self.size:\n",
    "            self.tail = 0\n",
    "        else:\n",
    "            self.tail += 1\n",
    "            \n",
    "    def dequeue(self):\n",
    "        element = self.queue_arr[self.head]\n",
    "        self.queue_arr[self.head] = None\n",
    "        if self.head == self.size:\n",
    "            self.head == 0\n",
    "        else:\n",
    "            self.head += 1\n",
    "        return element\n",
    "    \n",
    "    def isempty(self):\n",
    "        isit = True\n",
    "        for e in self.queue_arr:\n",
    "            if e != None:\n",
    "                isit = False\n",
    "        if isit:\n",
    "            return True\n",
    "        else:\n",
    "            return False\n",
    "\n"
   ]
  },
  {
   "cell_type": "code",
   "execution_count": 5,
   "id": "7deac9b1",
   "metadata": {},
   "outputs": [],
   "source": [
    "def check_with_q(queue, inp):\n",
    "    list_op = ['[', '(', '{']\n",
    "    list_cl = [']', ')', '}']\n",
    "    for e in inp:\n",
    "        if e in list_op:\n",
    "            returned = queue.enqueue(e)\n",
    "        if e in list_cl:\n",
    "            returned = queue.dequeue()\n",
    "\n",
    "    if queue.isempty():\n",
    "        return \"Okay\"\n",
    "    else:\n",
    "        return \"Not Okay!!\""
   ]
  },
  {
   "cell_type": "code",
   "execution_count": 6,
   "id": "9d5da9d7",
   "metadata": {},
   "outputs": [
    {
     "name": "stdout",
     "output_type": "stream",
     "text": [
      "Checking status of '(()' using queue: Not Okay!!\n",
      "Checking status of '{([])}' using queue: Okay\n"
     ]
    }
   ],
   "source": [
    "r_inp = \"{([])}\"\n",
    "w_inp = \"(()\"\n",
    "\n",
    "queue = Queue()\n",
    "print(f\"Checking status of '{w_inp}' using queue:\", check_with_q(queue, w_inp))\n",
    "queue = Queue()\n",
    "print(f\"Checking status of '{r_inp}' using queue: {check_with_q(queue, r_inp)}\")"
   ]
  },
  {
   "cell_type": "markdown",
   "id": "a9ae87f3",
   "metadata": {},
   "source": [
    "--End--"
   ]
  }
 ],
 "metadata": {
  "kernelspec": {
   "display_name": "Python 3 (ipykernel)",
   "language": "python",
   "name": "python3"
  },
  "language_info": {
   "codemirror_mode": {
    "name": "ipython",
    "version": 3
   },
   "file_extension": ".py",
   "mimetype": "text/x-python",
   "name": "python",
   "nbconvert_exporter": "python",
   "pygments_lexer": "ipython3",
   "version": "3.8.3"
  }
 },
 "nbformat": 4,
 "nbformat_minor": 5
}
