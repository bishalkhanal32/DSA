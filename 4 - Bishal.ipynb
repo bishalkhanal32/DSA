{
 "cells": [
  {
   "cell_type": "markdown",
   "id": "66b506c7",
   "metadata": {},
   "source": [
    "#### Heapsort and Quicksort Implementation"
   ]
  },
  {
   "cell_type": "code",
   "execution_count": 1,
   "id": "25566a42",
   "metadata": {},
   "outputs": [],
   "source": [
    "import numpy as np"
   ]
  },
  {
   "cell_type": "code",
   "execution_count": 2,
   "id": "59f54310",
   "metadata": {},
   "outputs": [],
   "source": [
    "#heapsort algorithm\n",
    "\n",
    "def max_heapify(A, i, heapsize): #i represent proper index\n",
    "    li = 2*(i+1) # not proper index\n",
    "    ri = 2*(i+1) + 1 #not proper index\n",
    "    #making proper index\n",
    "    li = li-1\n",
    "    ri = ri-1\n",
    "\n",
    "    if ri<=(heapsize-1) and (A[ri] >= A[i]):\n",
    "        max_i = ri\n",
    "    else:\n",
    "        max_i = i\n",
    "        \n",
    "    if li<=(heapsize-1) and (A[li] >= A[max_i]):\n",
    "        max_i = li\n",
    "    \n",
    "    if i!=max_i:\n",
    "        tmp = A[i]\n",
    "        A[i] = A[max_i]\n",
    "        A[max_i] = tmp\n",
    "        max_heapify(A, max_i, heapsize)\n",
    "\n",
    "    \n",
    "def build_max_heap(A): #works\n",
    "    i = int(np.floor(len(A)/2))\n",
    "    heapsize = len(A)\n",
    "    for j in range(i-1, -1, -1 ):\n",
    "        max_heapify(A, j, heapsize) #j represent proper index\n",
    "    print('Build max',A)\n",
    "    \n",
    "def heapsort(A):\n",
    "    build_max_heap(A)\n",
    "    heapsize = len(A)\n",
    "    for i in range(len(A)-1, 0, -1):\n",
    "        temp = A[0]\n",
    "        A[0] = A[i]\n",
    "        A[i] = temp\n",
    "        heapsize = heapsize-1\n",
    "        max_heapify(A, 0, heapsize) # 0 represent proper index\n",
    "    "
   ]
  },
  {
   "cell_type": "code",
   "execution_count": 3,
   "id": "1f9f25c8",
   "metadata": {},
   "outputs": [
    {
     "name": "stdout",
     "output_type": "stream",
     "text": [
      "Build max [100, 84, 19, 22, 5, 17, 6, 3, 10]\n"
     ]
    },
    {
     "data": {
      "text/plain": [
       "[3, 5, 6, 10, 17, 19, 22, 84, 100]"
      ]
     },
     "execution_count": 3,
     "metadata": {},
     "output_type": "execute_result"
    }
   ],
   "source": [
    "A = [5,3,17,10,84,19,6,22,100]\n",
    "heapsort(A)\n",
    "A"
   ]
  },
  {
   "cell_type": "code",
   "execution_count": 4,
   "id": "a74a0095",
   "metadata": {},
   "outputs": [],
   "source": [
    "#quicksort algorithm\n",
    "\n",
    "def partition(A,p,r):\n",
    "    x = A[r]\n",
    "    i = p - 1\n",
    "    for j in range(p, r-1+1):\n",
    "        if A[j]<=x:\n",
    "            i += 1\n",
    "            temp = A[i]\n",
    "            A[i] = A[j]\n",
    "            A[j] = temp\n",
    "    temp = A[i+1]\n",
    "    A[i+1] = A[r]\n",
    "    A[r] = temp\n",
    "    return i+1\n",
    "\n",
    "def quicksort(A, p, r):\n",
    "    if p<r:\n",
    "        q = partition(A,p,r)\n",
    "        quicksort(A, p, q-1)\n",
    "        quicksort(A, q+1, r)\n",
    "        "
   ]
  },
  {
   "cell_type": "code",
   "execution_count": 5,
   "id": "a310487e",
   "metadata": {},
   "outputs": [
    {
     "data": {
      "text/plain": [
       "[0, 1, 2, 4, 5, 6, 7, 8, 9, 12, 13, 15]"
      ]
     },
     "execution_count": 5,
     "metadata": {},
     "output_type": "execute_result"
    }
   ],
   "source": [
    "A = [15,13,9,5,12,8,7,4,0,6,2,1]\n",
    "quicksort(A, p=0, r=len(A) - 1)\n",
    "A"
   ]
  }
 ],
 "metadata": {
  "kernelspec": {
   "display_name": "Python 3 (ipykernel)",
   "language": "python",
   "name": "python3"
  },
  "language_info": {
   "codemirror_mode": {
    "name": "ipython",
    "version": 3
   },
   "file_extension": ".py",
   "mimetype": "text/x-python",
   "name": "python",
   "nbconvert_exporter": "python",
   "pygments_lexer": "ipython3",
   "version": "3.8.3"
  }
 },
 "nbformat": 4,
 "nbformat_minor": 5
}
